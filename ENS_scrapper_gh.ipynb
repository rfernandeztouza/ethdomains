{
 "cells": [
  {
   "cell_type": "code",
   "execution_count": null,
   "id": "8bd31e38",
   "metadata": {},
   "outputs": [],
   "source": [
    "## Need to add your own Infura address. Can create account \n",
    "## with free 100k API daily calls"
   ]
  },
  {
   "cell_type": "code",
   "execution_count": null,
   "id": "791492b5",
   "metadata": {},
   "outputs": [],
   "source": [
    "INFURA_ID = 'INSERT YOUR ID'\n",
    "%set_env WEB3_INFURA_PROJECT_ID = INFURA_ID\n",
    "from web3 import Web3\n",
    "from web3.auto.infura import w3\n",
    "w3 = Web3(Web3.HTTPProvider('INSERT YOUR ID'))"
   ]
  },
  {
   "cell_type": "code",
   "execution_count": null,
   "id": "d0c0596a",
   "metadata": {},
   "outputs": [],
   "source": [
    "from ens.auto import ns\n",
    "from ens import ENS\n",
    "\n",
    "provider = Web3.HTTPProvider('INSERT YOUR INFURE MAINNET ADDDRESS')\n",
    "ns = ENS(provider)\n",
    "\n",
    "w3.isConnected()"
   ]
  },
  {
   "cell_type": "code",
   "execution_count": null,
   "id": "c68fe772",
   "metadata": {},
   "outputs": [],
   "source": [
    "## Create list of all possible 3-char addresses \n",
    "## (excludes numbers which are also allowed)"
   ]
  },
  {
   "cell_type": "code",
   "execution_count": null,
   "id": "0fe4c959",
   "metadata": {},
   "outputs": [],
   "source": [
    "domains = []\n",
    "\n",
    "i = 0\n",
    "from string import ascii_lowercase\n",
    "for x in ascii_lowercase:\n",
    "    for y in ascii_lowercase:\n",
    "        for z in ascii_lowercase:\n",
    "            a=\"\"\n",
    "            a += x\n",
    "            a += y\n",
    "            a += z\n",
    "            a += \".eth\"\n",
    "            domains.append(a)"
   ]
  },
  {
   "cell_type": "code",
   "execution_count": null,
   "id": "7d32c282",
   "metadata": {},
   "outputs": [],
   "source": [
    "## Checking which addresses have owners"
   ]
  },
  {
   "cell_type": "code",
   "execution_count": null,
   "id": "b72b9379",
   "metadata": {},
   "outputs": [],
   "source": [
    "ownerList = [] \n",
    "for i in range(0,len(domains)):\n",
    "    ownerList.append(ns.owner(domains[i]))"
   ]
  },
  {
   "cell_type": "code",
   "execution_count": null,
   "id": "ffb7c223",
   "metadata": {},
   "outputs": [],
   "source": [
    "l = len(domains)\n",
    "MatrixOwners = [[0 for x in range(2)] for y in range(l)]"
   ]
  },
  {
   "cell_type": "code",
   "execution_count": null,
   "id": "93aa727e",
   "metadata": {},
   "outputs": [],
   "source": [
    "for i in range(len(domains)):\n",
    "    MatrixOwners[i][0] = domains[i]\n",
    "    if i < len(ownerList):\n",
    "        MatrixOwners[i][1] = ownerList[i]"
   ]
  },
  {
   "cell_type": "code",
   "execution_count": null,
   "id": "4d35cba1",
   "metadata": {},
   "outputs": [],
   "source": [
    "## Output 2-column csv with domains & owners addresses"
   ]
  },
  {
   "cell_type": "code",
   "execution_count": null,
   "id": "df845ce0",
   "metadata": {},
   "outputs": [],
   "source": [
    "dataframe_Owners= pandas.DataFrame(MatrixOwners)"
   ]
  },
  {
   "cell_type": "code",
   "execution_count": null,
   "id": "8f973800",
   "metadata": {},
   "outputs": [],
   "source": [
    "dataframe_Owners.to_csv(\"~/Desktop/ENS_3char_Domains_Owners.csv\")"
   ]
  }
 ],
 "metadata": {
  "kernelspec": {
   "display_name": "Python 3",
   "language": "python",
   "name": "python3"
  },
  "language_info": {
   "codemirror_mode": {
    "name": "ipython",
    "version": 3
   },
   "file_extension": ".py",
   "mimetype": "text/x-python",
   "name": "python",
   "nbconvert_exporter": "python",
   "pygments_lexer": "ipython3",
   "version": "3.8.8"
  }
 },
 "nbformat": 4,
 "nbformat_minor": 5
}
